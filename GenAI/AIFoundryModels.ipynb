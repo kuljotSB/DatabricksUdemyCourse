{
 "cells": [
  {
   "cell_type": "markdown",
   "id": "2b54a200",
   "metadata": {},
   "source": [
    "## Deploy and Run AI Foundry Models in Azure Databricks"
   ]
  },
  {
   "cell_type": "markdown",
   "id": "89d1fede",
   "metadata": {},
   "source": [
    "#### Install the Azure-AI-Inference SDK"
   ]
  },
  {
   "cell_type": "code",
   "execution_count": null,
   "id": "7a4b4651",
   "metadata": {},
   "outputs": [],
   "source": [
    "%pip install azure-ai-inference"
   ]
  },
  {
   "cell_type": "code",
   "execution_count": null,
   "id": "5c640928",
   "metadata": {},
   "outputs": [],
   "source": [
    "from azure.ai.inference import ChatCompletionsClient\n",
    "from azure.ai.inference.models import SystemMessage, UserMessage\n",
    "from azure.ai.inference.models import ImageContentItem, ImageUrl, TextContentItem\n",
    "from azure.core.credentials import AzureKeyCredential"
   ]
  },
  {
   "cell_type": "markdown",
   "id": "82564a02",
   "metadata": {},
   "source": [
    "#### Populate the Environment Variables"
   ]
  },
  {
   "cell_type": "code",
   "execution_count": null,
   "id": "a1846066",
   "metadata": {},
   "outputs": [],
   "source": [
    "ai_foundry_model_endpoint = \"\"\n",
    "ai_foundry_model_api_key = \"\"\n",
    "ai_foundry_model_deployment_name = \"\"\n"
   ]
  },
  {
   "cell_type": "markdown",
   "id": "aebf3ad1",
   "metadata": {},
   "source": [
    "#### Create a function to call the AI Foundry Model"
   ]
  },
  {
   "cell_type": "code",
   "execution_count": null,
   "id": "51deafa5",
   "metadata": {},
   "outputs": [],
   "source": [
    "def call_ai_foundry_catalog_model(user_prompt, system_prompt, ai_foundry_model_endpoint, ai_foundry_model_api_key):\n",
    "    client = ChatCompletionsClient(\n",
    "        endpoint = ai_foundry_model_endpoint,\n",
    "        credential = AzureKeyCredential(ai_foundry_model_api_key),\n",
    "        api_version = \"2024-05-01-preview\"\n",
    "    )\n",
    "\n",
    "    messages = [\n",
    "        {\n",
    "            \"role\":\"system\",\n",
    "            \"content\":f\"{system_prompt}\"\n",
    "        },\n",
    "        {\n",
    "            \"role\":\"user\",\n",
    "            \"content\":[\n",
    "                {\n",
    "                    \"type\":\"text\",\n",
    "                    \"text\":f\"{user_prompt}\"\n",
    "                }\n",
    "            ]\n",
    "        }\n",
    "    ]\n",
    "\n",
    "    response = client.complete(\n",
    "        messages=messages,\n",
    "        temperature=0.7,\n",
    "        \n",
    "    )\n",
    "\n",
    "    return response.choices[0].message.content\n",
    "\n"
   ]
  },
  {
   "cell_type": "markdown",
   "id": "45569252",
   "metadata": {},
   "source": [
    "#### Create a Basic Chat App "
   ]
  },
  {
   "cell_type": "code",
   "execution_count": null,
   "id": "60097dec",
   "metadata": {},
   "outputs": [],
   "source": [
    "system_prompt = \"You are a helpful assistant.\"\n",
    "while True:\n",
    "    user_prompt = input(\"Enter your message: \")\n",
    "    response = call_ai_foundry_catalog_model(user_prompt, system_prompt, ai_foundry_model_endpoint, ai_foundry_model_api_key)\n",
    "    print(\"AI Response: \", response)\n",
    "    if user_prompt == \"exit\":\n",
    "        break"
   ]
  }
 ],
 "metadata": {
  "language_info": {
   "name": "python"
  }
 },
 "nbformat": 4,
 "nbformat_minor": 5
}
