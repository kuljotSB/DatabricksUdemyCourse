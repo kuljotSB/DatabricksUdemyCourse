{
 "cells": [
  {
   "cell_type": "markdown",
   "id": "585c8cfa",
   "metadata": {},
   "source": [
    "## Getting Started with the Semantic Kernel SDK Agent Framework"
   ]
  },
  {
   "cell_type": "markdown",
   "id": "efa2cf5e",
   "metadata": {},
   "source": [
    "### Installing Utilities and Dependencies"
   ]
  },
  {
   "cell_type": "code",
   "execution_count": null,
   "id": "fa162461",
   "metadata": {
    "vscode": {
     "languageId": "plaintext"
    }
   },
   "outputs": [],
   "source": [
    "%pip install semantic-kernel==1.28.1"
   ]
  },
  {
   "cell_type": "markdown",
   "id": "9a0da58e",
   "metadata": {},
   "source": [
    "### Creating the Kernel and the AzureChatCompletion Client"
   ]
  },
  {
   "cell_type": "code",
   "execution_count": null,
   "id": "6fe3e718",
   "metadata": {
    "vscode": {
     "languageId": "plaintext"
    }
   },
   "outputs": [],
   "source": [
    "from semantic_kernel import Kernel\n",
    "from semantic_kernel.connectors.ai.open_ai import AzureChatCompletion\n",
    "from semantic_kernel.functions import KernelArguments\n",
    "import os\n",
    "import asyncio\n",
    "import time\n",
    "\n",
    "kernel = Kernel()\n",
    "\n",
    "#Load the environment variables\n",
    "api_key = \"\"\n",
    "deployment_name = \"\"\n",
    "endpoint = \"\"\n",
    "\n",
    "print(f\"API Key: {api_key}\")\n",
    "print(f\"Deployment Name: {deployment_name}\")\n",
    "print(f\"Endpoint: {endpoint}\")\n",
    "\n",
    "service_id = \"service1\"\n",
    "kernel.add_service(\n",
    "    AzureChatCompletion(service_id=service_id,\n",
    "                        api_key=api_key,\n",
    "                        deployment_name=deployment_name,\n",
    "                        endpoint = endpoint\n",
    "    )\n",
    ")"
   ]
  },
  {
   "cell_type": "markdown",
   "id": "d63637e3",
   "metadata": {},
   "source": [
    "### Creating the Agent with the AzureChatCompletionClient"
   ]
  },
  {
   "cell_type": "code",
   "execution_count": null,
   "id": "d58ddd73",
   "metadata": {
    "vscode": {
     "languageId": "plaintext"
    }
   },
   "outputs": [],
   "source": [
    "from semantic_kernel.agents import ChatCompletionAgent\n",
    "from semantic_kernel.connectors.ai.prompt_execution_settings import PromptExecutionSettings\n",
    "from semantic_kernel.functions.kernel_arguments import KernelArguments\n",
    "from semantic_kernel.connectors.ai.function_choice_behavior import FunctionChoiceBehavior\n",
    "\n",
    "arguments = KernelArguments(\n",
    "        settings=PromptExecutionSettings(\n",
    "            # Set the function_choice_behavior to auto to let the model\n",
    "            # decide which function to use, and let the kernel automatically\n",
    "            # execute the functions.\n",
    "            function_choice_behavior=FunctionChoiceBehavior.Auto(),\n",
    "        )\n",
    "    )\n",
    "\n",
    "# Create the agent using the kernel\n",
    "agent = ChatCompletionAgent(\n",
    "  kernel=kernel, \n",
    "  name=\"ChatCompletionAgent\", \n",
    "  instructions=\"You are a helpful AI assistant\",\n",
    "  arguments=arguments\n",
    ")"
   ]
  },
  {
   "cell_type": "markdown",
   "id": "b15dcbee",
   "metadata": {},
   "source": [
    "### Sending a simplistic message to our agent"
   ]
  },
  {
   "cell_type": "code",
   "execution_count": null,
   "id": "643ecfe5",
   "metadata": {
    "vscode": {
     "languageId": "plaintext"
    }
   },
   "outputs": [],
   "source": [
    "response = await agent.get_response(messages=\"Hello how are you?\")\n",
    "print(response)"
   ]
  },
  {
   "cell_type": "markdown",
   "id": "bc1c98c5",
   "metadata": {},
   "source": [
    "### Seeing Agent Chat History Thread in Action"
   ]
  },
  {
   "cell_type": "code",
   "execution_count": null,
   "id": "57b673b8",
   "metadata": {
    "vscode": {
     "languageId": "plaintext"
    }
   },
   "outputs": [],
   "source": [
    "from semantic_kernel.agents import ChatHistoryAgentThread\n",
    "\n",
    "# Define the thread\n",
    "thread = ChatHistoryAgentThread()\n",
    "\n",
    "continueChat = True\n",
    "\n",
    "while continueChat:\n",
    "    user_input = input(\"Enter your query: \")\n",
    "    if user_input.lower() == \"exit\":\n",
    "        continueChat = False\n",
    "        break\n",
    "    response = await agent.get_response(messages=user_input, thread=thread)\n",
    "    print(response)"
   ]
  }
 ],
 "metadata": {
  "language_info": {
   "name": "python"
  }
 },
 "nbformat": 4,
 "nbformat_minor": 5
}
