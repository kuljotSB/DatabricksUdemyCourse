{
 "cells": [
  {
   "cell_type": "markdown",
   "id": "f92a1f62",
   "metadata": {},
   "source": [
    "## Agent Group Chat - News Channel Use Case (News Creation - Writer and Reviewer)"
   ]
  },
  {
   "cell_type": "markdown",
   "id": "59b58e98",
   "metadata": {},
   "source": [
    "![agent-chat](./Assets/AgentChat.png)"
   ]
  },
  {
   "cell_type": "markdown",
   "id": "0bf80386",
   "metadata": {},
   "source": [
    "### Installing SDK and Libraries"
   ]
  },
  {
   "cell_type": "code",
   "execution_count": null,
   "id": "4db03255",
   "metadata": {},
   "outputs": [],
   "source": [
    "%pip install semantic-kernel==1.28.1, azure-identity, azure-ai-projects==1.0.0b7"
   ]
  },
  {
   "cell_type": "markdown",
   "id": "a0c4742f",
   "metadata": {},
   "source": [
    "### Setting the Environment Variables"
   ]
  },
  {
   "cell_type": "code",
   "execution_count": null,
   "id": "ebd0719d",
   "metadata": {},
   "outputs": [],
   "source": [
    "import os\n",
    "\n",
    "os.environ[\"AZURE_CLIENT_ID\"] = \"\"\n",
    "os.environ[\"AZURE_TENANT_ID\"] = \"\"\n",
    "os.environ[\"AZURE_CLIENT_SECRET\"] = \"\"\n"
   ]
  },
  {
   "cell_type": "markdown",
   "id": "1b2dbaac",
   "metadata": {},
   "source": [
    "### Creating the Azure AI Project Client"
   ]
  },
  {
   "cell_type": "code",
   "execution_count": null,
   "id": "165759af",
   "metadata": {},
   "outputs": [],
   "source": [
    "from azure.identity import DefaultAzureCredential\n",
    "from semantic_kernel.agents import AzureAIAgent, AzureAIAgentSettings\n",
    "import os\n",
    "from azure.ai.projects import AIProjectClient\n",
    "from azure.ai.projects.models import MessageTextContent\n",
    "import asyncio\n",
    "from semantic_kernel import Kernel\n",
    "from semantic_kernel.agents import AgentGroupChat, ChatCompletionAgent\n",
    "from semantic_kernel.agents.strategies import (\n",
    "    KernelFunctionSelectionStrategy,\n",
    "    KernelFunctionTerminationStrategy,\n",
    ")\n",
    "from semantic_kernel.connectors.ai.open_ai import AzureChatCompletion\n",
    "from semantic_kernel.contents import ChatHistoryTruncationReducer\n",
    "from semantic_kernel.functions import KernelFunctionFromPrompt\n",
    "\n",
    "\n",
    "model = \"\"\n",
    "\n",
    "project_client = AzureAIAgent.create_client(credential=DefaultAzureCredential(),\n",
    "                           conn_str=\"\"\n",
    ")"
   ]
  },
  {
   "cell_type": "markdown",
   "id": "19823a46",
   "metadata": {},
   "source": [
    "### Naming our \"Writer\" and \"Reviewer\" Agent"
   ]
  },
  {
   "cell_type": "code",
   "execution_count": null,
   "id": "5723ab7a",
   "metadata": {},
   "outputs": [],
   "source": [
    "# Define agent names\n",
    "REVIEWER_NAME = \"Reviewer\"\n",
    "WRITER_NAME = \"Writer\""
   ]
  },
  {
   "cell_type": "markdown",
   "id": "4c3b6e91",
   "metadata": {},
   "source": [
    "### System Prompt for the \"Writer\" Agent"
   ]
  },
  {
   "cell_type": "code",
   "execution_count": null,
   "id": "f3023fbd",
   "metadata": {},
   "outputs": [],
   "source": [
    "writer_agent_prompt = f\"\"\"Your sole responsibility is to rewrite content according to review suggestions.\n",
    "- Always apply all review directions.\n",
    "- Always revise the content in its entirety without explanation.\n",
    "- Never address the user. \"\"\""
   ]
  },
  {
   "cell_type": "markdown",
   "id": "f4ab76aa",
   "metadata": {},
   "source": [
    "### Creating the \"Writer\" Agent"
   ]
  },
  {
   "cell_type": "code",
   "execution_count": null,
   "id": "73ca8d4c",
   "metadata": {},
   "outputs": [],
   "source": [
    "# [START create_agent] Creating Azure AI Agent Service Agent\n",
    "writer_agent_definition = await project_client.agents.create_agent(  #add get_agent(assistant_id=\"\") for using already created agent\n",
    "        model=model,\n",
    "        name=WRITER_NAME,\n",
    "        instructions=writer_agent_prompt,\n",
    "    )\n",
    "\n",
    "# 2. Create a Semantic Kernel agent based on the agent definition\n",
    "agent_writer = AzureAIAgent(\n",
    "        client=project_client,\n",
    "        definition=writer_agent_definition,\n",
    "    )"
   ]
  },
  {
   "cell_type": "markdown",
   "id": "d7f263f3",
   "metadata": {},
   "source": [
    "### System Prompt for the \"Reviewer\" Agent"
   ]
  },
  {
   "cell_type": "code",
   "execution_count": null,
   "id": "1f6f60ca",
   "metadata": {},
   "outputs": [],
   "source": [
    "reviewer_agent_prompt = f\"\"\"You are a reviewer agent. Your task is to evaluate a short article (~100 words) written by another agent.\n",
    "Review it based on the following criteria:\n",
    "\n",
    "1. Clarity – Is the message clear and easy to follow?\n",
    "2. Accuracy – Does the content appear factually correct?\n",
    "3. Engagement – Is it interesting and appropriate for a general audience?\n",
    "4. Language – Are there grammar or style issues?\n",
    "\n",
    "Provide:\n",
    "\n",
    "1. A brief evaluation (2–3 lines).\n",
    "2. A score between 1–10 reflecting the overall quality of the article.\n",
    "3. If the score is 8 or below, provide 1–3 suggestions to improve the article.\n",
    "4. If the score is above 8, simply state: \"The article is good to go.\"\n",
    "\n",
    "Do not ask for further refinement unless the score is 8 or lower.\"\"\""
   ]
  },
  {
   "cell_type": "markdown",
   "id": "8f96fb83",
   "metadata": {},
   "source": [
    "### Creating the \"Reviewer\" Agent"
   ]
  },
  {
   "cell_type": "code",
   "execution_count": null,
   "id": "cd648a27",
   "metadata": {},
   "outputs": [],
   "source": [
    "# [START create_agent] Creating Azure AI Agent Service Agent\n",
    "reviewer_agent_definition = await project_client.agents.create_agent(  #add get_agent(assistant_id=\"\") for using already created agent\n",
    "        model=model,\n",
    "        name=REVIEWER_NAME,\n",
    "        instructions=reviewer_agent_prompt\n",
    "    )\n",
    "\n",
    "# 2. Create a Semantic Kernel agent based on the agent definition\n",
    "agent_reviewer = AzureAIAgent(\n",
    "        client=project_client,\n",
    "        definition=reviewer_agent_definition,\n",
    "    )"
   ]
  },
  {
   "cell_type": "markdown",
   "id": "1ec1d252",
   "metadata": {},
   "source": [
    "### Creating the Kernel"
   ]
  },
  {
   "cell_type": "code",
   "execution_count": null,
   "id": "c51e23a6",
   "metadata": {},
   "outputs": [],
   "source": [
    "from semantic_kernel import Kernel\n",
    "from semantic_kernel.connectors.ai.open_ai import AzureChatCompletion\n",
    "from semantic_kernel.functions import KernelArguments\n",
    "import os\n",
    "import asyncio\n",
    "import time\n",
    "\n",
    "kernel = Kernel()\n",
    "\n",
    "# Load environment variables from .env file\n",
    "api_key = \"\"\n",
    "deployment_name = \"\"\n",
    "endpoint = \"\"\n",
    "\n",
    "print(f\"API Key: {api_key}\")\n",
    "print(f\"Deployment Name: {deployment_name}\")\n",
    "print(f\"Endpoint: {endpoint}\")\n",
    "\n",
    "service_id = \"service1\"\n",
    "kernel.add_service(\n",
    "    AzureChatCompletion(service_id=service_id,\n",
    "                        api_key=api_key,\n",
    "                        deployment_name=deployment_name,\n",
    "                        endpoint = endpoint\n",
    "    )\n",
    ")"
   ]
  },
  {
   "cell_type": "markdown",
   "id": "ef523ead",
   "metadata": {},
   "source": [
    "### Defining our \"Agent Selection Function\""
   ]
  },
  {
   "cell_type": "code",
   "execution_count": null,
   "id": "faa443ad",
   "metadata": {},
   "outputs": [],
   "source": [
    "# Define a selection function to determine which agent should take the next turn.\n",
    "selection_function = KernelFunctionFromPrompt(\n",
    "        function_name=\"selection\",\n",
    "        prompt=f\"\"\"\n",
    "Examine the provided RESPONSE and choose the next participant.\n",
    "State only the name of the chosen participant without explanation.\n",
    "Never choose the participant named in the RESPONSE.\n",
    "\n",
    "Choose only from these participants:\n",
    "- {REVIEWER_NAME}\n",
    "- {WRITER_NAME}\n",
    "\n",
    "Rules:\n",
    "- If RESPONSE is user input, it is {WRITER_NAME}'s turn.\n",
    "- If RESPONSE is by {REVIEWER_NAME}, it is {WRITER_NAME}'s turn.\n",
    "- If RESPONSE is by {WRITER_NAME}, it is {REVIEWER_NAME}'s turn.\n",
    "\n",
    "RESPONSE:\n",
    "{{{{$lastmessage}}}}\n",
    "\"\"\",\n",
    ")"
   ]
  },
  {
   "cell_type": "markdown",
   "id": "e87dc8f7",
   "metadata": {},
   "source": [
    "### Defining our \"Conversation Termination Function\""
   ]
  },
  {
   "cell_type": "code",
   "execution_count": null,
   "id": "0fa561a3",
   "metadata": {},
   "outputs": [],
   "source": [
    "# Define a termination function where the reviewer signals completion with \"yes\".\n",
    "termination_keyword = \"yes\"\n",
    "\n",
    "termination_function = KernelFunctionFromPrompt(\n",
    "        function_name=\"termination\",\n",
    "        prompt=f\"\"\"\n",
    "Examine the RESPONSE and determine whether the content has been deemed satisfactory.\n",
    "The content is deemed satisfactory if the reviewer has given a score of 8 or higher and stated \"The article is good to go.\"\n",
    "If the content is satisfactory, respond with a single word without explanation: {termination_keyword}.\n",
    "\n",
    "\n",
    "RESPONSE:\n",
    "{{{{$lastmessage}}}}\n",
    "\"\"\",\n",
    "    )"
   ]
  },
  {
   "cell_type": "markdown",
   "id": "d6c3d21c",
   "metadata": {},
   "source": [
    "### Creating our Agent \"Group Chat\""
   ]
  },
  {
   "cell_type": "code",
   "execution_count": null,
   "id": "6684abc8",
   "metadata": {},
   "outputs": [],
   "source": [
    "history_reducer = ChatHistoryTruncationReducer(target_count=5)\n",
    "\n",
    "# Create the AgentGroupChat with selection and termination strategies.\n",
    "chat = AgentGroupChat(\n",
    "        agents=[agent_reviewer, agent_writer],\n",
    "        selection_strategy=KernelFunctionSelectionStrategy(\n",
    "            initial_agent=agent_writer,\n",
    "            function=selection_function,\n",
    "            kernel=kernel,\n",
    "            result_parser=lambda result: str(result.value[0]).strip() if result.value[0] is not None else WRITER_NAME,\n",
    "            history_variable_name=\"lastmessage\",\n",
    "            history_reducer=history_reducer,\n",
    "        ),\n",
    "        termination_strategy=KernelFunctionTerminationStrategy(\n",
    "            agents=[agent_reviewer],\n",
    "            function=termination_function,\n",
    "            kernel=kernel,\n",
    "            result_parser=lambda result: termination_keyword in str(result.value[0]).lower(),\n",
    "            history_variable_name=\"lastmessage\",\n",
    "            maximum_iterations=10,\n",
    "            history_reducer=history_reducer,\n",
    "        ),\n",
    "    )"
   ]
  },
  {
   "cell_type": "markdown",
   "id": "6a379e7a",
   "metadata": {},
   "source": [
    "### Running our Agent Group Chat"
   ]
  },
  {
   "cell_type": "code",
   "execution_count": null,
   "id": "e4c7ff95",
   "metadata": {},
   "outputs": [],
   "source": [
    "print(\n",
    "        \"Ready! Type your input, or 'exit' to quit, 'reset' to restart the conversation. \"\n",
    "    )\n",
    "\n",
    "is_complete = False\n",
    "while not is_complete:\n",
    "        print()\n",
    "        user_input = input(\"User > \").strip()\n",
    "        if not user_input:\n",
    "            continue\n",
    "\n",
    "        if user_input.lower() == \"exit\":\n",
    "            is_complete = True\n",
    "            break\n",
    "\n",
    "        if user_input.lower() == \"reset\":\n",
    "            await chat.reset()\n",
    "            print(\"[Conversation has been reset]\")\n",
    "            continue\n",
    "        \n",
    "        # Add the current user_input to the chat\n",
    "        await chat.add_chat_message(message=user_input)\n",
    "\n",
    "        try:\n",
    "            async for response in chat.invoke():\n",
    "                if response is None or not response.name:\n",
    "                    continue\n",
    "                print()\n",
    "                print(f\"# {response.name.upper()}:\\n{response.content}\")\n",
    "        except Exception as e:\n",
    "            print(f\"Error during chat invocation: {e}\")\n",
    "\n",
    "        # Reset the chat's complete flag for the new conversation round.\n",
    "        chat.is_complete = False"
   ]
  }
 ],
 "metadata": {
  "language_info": {
   "name": "python"
  }
 },
 "nbformat": 4,
 "nbformat_minor": 5
}
