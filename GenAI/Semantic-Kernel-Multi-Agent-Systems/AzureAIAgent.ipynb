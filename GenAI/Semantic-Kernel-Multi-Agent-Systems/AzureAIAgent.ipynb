{
 "cells": [
  {
   "cell_type": "markdown",
   "id": "a861d528",
   "metadata": {},
   "source": [
    "## Creating Azure AI Agent Service Agents with the Semantic Kernel"
   ]
  },
  {
   "cell_type": "markdown",
   "id": "a57f4be0",
   "metadata": {},
   "source": [
    "![azure-ai-agents](./Assets/AzureAIAgent.png)"
   ]
  },
  {
   "cell_type": "markdown",
   "id": "349bf099",
   "metadata": {},
   "source": [
    "### Installing dependencies and libraries"
   ]
  },
  {
   "cell_type": "code",
   "execution_count": null,
   "id": "814a2e13",
   "metadata": {
    "vscode": {
     "languageId": "plaintext"
    }
   },
   "outputs": [],
   "source": [
    "%pip install semantic-kernel==1.28.1"
   ]
  },
  {
   "cell_type": "code",
   "execution_count": null,
   "id": "ffa683c3",
   "metadata": {
    "vscode": {
     "languageId": "plaintext"
    }
   },
   "outputs": [],
   "source": [
    "%pip install azure-identity"
   ]
  },
  {
   "cell_type": "code",
   "execution_count": null,
   "id": "708d02a4",
   "metadata": {
    "vscode": {
     "languageId": "plaintext"
    }
   },
   "outputs": [],
   "source": [
    "%pip install azure-ai-projects==1.0.0b7"
   ]
  },
  {
   "cell_type": "code",
   "execution_count": null,
   "id": "b9c4ecf5",
   "metadata": {},
   "outputs": [],
   "source": [
    "import os\n",
    "\n",
    "os.environ[\"AZURE_CLIENT_ID\"] = \"\"\n",
    "os.environ[\"AZURE_TENANT_ID\"] = \"\"\n",
    "os.environ[\"AZURE_CLIENT_SECRET\"] = \"\"\n"
   ]
  },
  {
   "cell_type": "markdown",
   "id": "d89eed4d",
   "metadata": {},
   "source": [
    "### Creating our Agent via code"
   ]
  },
  {
   "cell_type": "code",
   "execution_count": null,
   "id": "856d69d0",
   "metadata": {
    "vscode": {
     "languageId": "plaintext"
    }
   },
   "outputs": [],
   "source": [
    "from azure.identity import DefaultAzureCredential\n",
    "from semantic_kernel.agents import AzureAIAgent, AzureAIAgentSettings\n",
    "import os\n",
    "from azure.ai.projects import AIProjectClient\n",
    "from dotenv import load_dotenv\n",
    "import asyncio\n",
    "\n",
    "model = \"\"\n",
    "\n",
    "project_client = AzureAIAgent.create_client(credential=DefaultAzureCredential(),\n",
    "                           conn_str=\"\"\n",
    ")\n",
    "\n",
    "# [START create_agent] Creating Azure AI Agent Service Agent\n",
    "agent_definition = await project_client.agents.create_agent(  #add get_agent(assistant_id=\"\") for using already created agent\n",
    "        model=model,\n",
    "        name=\"my-assistant\",\n",
    "        instructions=\"You are helpful assistant\",\n",
    "    )\n",
    "\n",
    "# 2. Create a Semantic Kernel agent based on the agent definition\n",
    "agent = AzureAIAgent(\n",
    "        client=project_client,\n",
    "        definition=agent_definition,\n",
    "    )"
   ]
  },
  {
   "cell_type": "markdown",
   "id": "df8d34dc",
   "metadata": {},
   "source": [
    "### Getting a Response back from our Agent"
   ]
  },
  {
   "cell_type": "code",
   "execution_count": null,
   "id": "4e112e0e",
   "metadata": {
    "vscode": {
     "languageId": "plaintext"
    }
   },
   "outputs": [],
   "source": [
    "user_input = \"What is the capital of France?\"\n",
    "\n",
    "thread = project_client.agents.create_thread()\n",
    "\n",
    "\n",
    "# 3. Call the agent with user input\n",
    "async def get_response_from_agent():\n",
    "    response =  await agent.get_response(\n",
    "        messages = user_input,\n",
    "       \n",
    "    )\n",
    "    \n",
    "    return response\n",
    "\n",
    "response = await get_response_from_agent()\n",
    "print(response)"
   ]
  },
  {
   "cell_type": "markdown",
   "id": "eb098b85",
   "metadata": {},
   "source": [
    "### Seeing Agent Chat History Thread in Action"
   ]
  },
  {
   "cell_type": "code",
   "execution_count": null,
   "id": "193658e4",
   "metadata": {
    "vscode": {
     "languageId": "plaintext"
    }
   },
   "outputs": [],
   "source": [
    "from semantic_kernel.agents import AzureAIAgentThread\n",
    "\n",
    "thread: AzureAIAgentThread = AzureAIAgentThread(client=project_client)\n",
    "\n",
    "continue_chat = True\n",
    "\n",
    "while continue_chat:\n",
    "    user_input = input(\"Enter your message: \")\n",
    "    if user_input.lower() == \"exit\":\n",
    "        continue_chat = False\n",
    "        break\n",
    "    # Call the agent with user input\n",
    "    response = await agent.get_response(messages=user_input,\n",
    "                                         thread = thread\n",
    "    )\n",
    "    \n",
    "    print(response)"
   ]
  }
 ],
 "metadata": {
  "language_info": {
   "name": "python"
  }
 },
 "nbformat": 4,
 "nbformat_minor": 5
}
