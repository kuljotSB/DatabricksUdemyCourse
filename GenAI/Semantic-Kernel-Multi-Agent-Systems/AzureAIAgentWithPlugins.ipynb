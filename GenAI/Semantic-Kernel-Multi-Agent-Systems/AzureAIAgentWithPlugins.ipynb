{
 "cells": [
  {
   "cell_type": "markdown",
   "id": "1232915d",
   "metadata": {},
   "source": [
    "## Building Azure AI Agent with Plugins"
   ]
  },
  {
   "cell_type": "markdown",
   "id": "fc675a2b",
   "metadata": {},
   "source": [
    "![azure-ai-agent-with-plugins](./Assets/AzureAIAgentWithPlugins.png)"
   ]
  },
  {
   "cell_type": "markdown",
   "id": "e0d97b72",
   "metadata": {},
   "source": [
    "### Installing dependencies and libraries"
   ]
  },
  {
   "cell_type": "code",
   "execution_count": null,
   "id": "04517491",
   "metadata": {},
   "outputs": [],
   "source": [
    "%pip install semantic-kernel==1.28.1, azure-identity, azure-ai-projects==1.0.0b7"
   ]
  },
  {
   "cell_type": "markdown",
   "id": "6e80db33",
   "metadata": {},
   "source": [
    "### Setting the Environment Variables"
   ]
  },
  {
   "cell_type": "code",
   "execution_count": null,
   "id": "dc1c2e76",
   "metadata": {},
   "outputs": [],
   "source": [
    "import os\n",
    "\n",
    "os.environ[\"AZURE_CLIENT_ID\"] = \"\"\n",
    "os.environ[\"AZURE_TENANT_ID\"] = \"\"\n",
    "os.environ[\"AZURE_CLIENT_SECRET\"] = \"\"\n"
   ]
  },
  {
   "cell_type": "markdown",
   "id": "4978885c",
   "metadata": {},
   "source": [
    "### Loading our OpenAPI and Code Interpreter Tool"
   ]
  },
  {
   "cell_type": "code",
   "execution_count": null,
   "id": "db12b8db",
   "metadata": {},
   "outputs": [],
   "source": [
    "from azure.identity import DefaultAzureCredential\n",
    "from semantic_kernel.agents import AzureAIAgent, AzureAIAgentSettings\n",
    "import os\n",
    "from azure.ai.projects import AIProjectClient\n",
    "from azure.ai.projects.models import MessageTextContent\n",
    "from azure.ai.projects.models import OpenApiTool, OpenApiAnonymousAuthDetails\n",
    "import asyncio\n",
    "from typing import Any, Callable, Set, Dict, List, Optional\n",
    "import jsonref\n",
    "from azure.ai.projects.models import FunctionTool, ToolSet\n",
    "import json\n",
    "from azure.ai.projects.models import CodeInterpreterTool, MessageAttachment\n",
    "\n",
    "model = \"\"\n",
    "\n",
    "project_client = AzureAIAgent.create_client(credential=DefaultAzureCredential(),\n",
    "                           conn_str=\"\"\n",
    ")\n",
    "\n",
    "with open(\"./weather_openapi.json\", \"r\") as f:\n",
    "    openapi_spec = jsonref.loads(f.read())\n",
    "\n",
    "# Create Auth object for the OpenApiTool \n",
    "auth = OpenApiAnonymousAuthDetails()\n",
    "\n",
    "# Initialize agent OpenApi tool using the read in OpenAPI spec\n",
    "openapi = OpenApiTool(\n",
    "    name=\"get_weather\", spec=openapi_spec, description=\"Retrieve weather information for a location\", auth=auth\n",
    ")\n",
    "\n",
    "code_interpreter = CodeInterpreterTool()"
   ]
  },
  {
   "cell_type": "markdown",
   "id": "921aa6fd",
   "metadata": {},
   "source": [
    "### Encapsulating both Tools in a Toolset"
   ]
  },
  {
   "cell_type": "code",
   "execution_count": null,
   "id": "5840abac",
   "metadata": {},
   "outputs": [],
   "source": [
    "toolset = ToolSet()\n",
    "toolset.add(openapi)\n",
    "toolset.add(code_interpreter)"
   ]
  },
  {
   "cell_type": "markdown",
   "id": "a8873b68",
   "metadata": {},
   "source": [
    "### Creating Azure AI Agent (in Cloud)"
   ]
  },
  {
   "cell_type": "code",
   "execution_count": null,
   "id": "e0b99491",
   "metadata": {},
   "outputs": [],
   "source": [
    "agent = await project_client.agents.create_agent(\n",
    "        model=model,\n",
    "        name=\"multiple-tools-assistant\",\n",
    "        instructions=\"You are a helpful assistant\",\n",
    "        toolset=toolset,\n",
    "    )\n",
    "# [END create_agent_toolset]\n",
    "print(f\"Created agent, ID: {agent.id}\")\n",
    "agent_id = agent.id\n",
    "\n",
    "thread = await project_client.agents.create_thread()\n",
    "print(f\"Created thread, thread ID: {thread.id}\")\n",
    "thread_id = thread.id"
   ]
  },
  {
   "cell_type": "markdown",
   "id": "aa712336",
   "metadata": {},
   "source": [
    "### Creating Azure AI Agent (in Semantic Kernel ~ Locally)"
   ]
  },
  {
   "cell_type": "code",
   "execution_count": null,
   "id": "71928746",
   "metadata": {},
   "outputs": [],
   "source": [
    "agent_definition = await project_client.agents.get_agent(agent_id=agent_id)\n",
    "agent = AzureAIAgent(client=project_client, definition=agent_definition)"
   ]
  },
  {
   "cell_type": "markdown",
   "id": "fbd82bc8",
   "metadata": {},
   "source": [
    "### Invoking the Agent with a Thread"
   ]
  },
  {
   "cell_type": "code",
   "execution_count": null,
   "id": "eb387b97",
   "metadata": {},
   "outputs": [],
   "source": [
    "from semantic_kernel.agents import AzureAIAgentThread\n",
    "\n",
    "thread: AzureAIAgentThread = AzureAIAgentThread(client=project_client, thread_id=thread_id)\n",
    "print(f\"Working with the thread, ID: {thread.id}\")\n",
    "\n",
    "\n",
    "user_input = \"What is the weather in Paris and generate a chart for the same?\"\n",
    "# 3. Call the agent with user input\n",
    "async def get_response_from_agent():\n",
    "    response =  await agent.get_response(\n",
    "        messages = user_input,\n",
    "        thread=thread,\n",
    "    )\n",
    "    \n",
    "    return response\n",
    "\n",
    "response = await get_response_from_agent()\n",
    "print(response)"
   ]
  },
  {
   "cell_type": "markdown",
   "id": "28fad12e",
   "metadata": {},
   "source": [
    "### Fetching the PNG file of the Chart"
   ]
  },
  {
   "cell_type": "code",
   "execution_count": null,
   "id": "68850c5e",
   "metadata": {},
   "outputs": [],
   "source": [
    "from azure.ai.projects.models import CodeInterpreterTool, MessageAttachment\n",
    "from azure.ai.projects.models import FilePurpose, MessageRole\n",
    "from pathlib import Path\n",
    "\n",
    "\n",
    "messages = await project_client.agents.list_messages(thread_id=thread_id)\n",
    "print(f\"Messages: {messages}\")\n",
    "\n",
    "last_msg = messages.get_last_text_message_by_role(MessageRole.AGENT)\n",
    "if last_msg:\n",
    "        print(f\"Last Message: {last_msg.text.value}\")\n",
    "\n",
    "for image_content in messages.image_contents:\n",
    "        print(f\"Image File ID: {image_content.image_file.file_id}\")\n",
    "        file_name = f\"{image_content.image_file.file_id}_image_file.png\"\n",
    "        await project_client.agents.save_file(file_id=image_content.image_file.file_id, file_name=file_name)\n",
    "        print(f\"Saved image file to: {Path.cwd() / file_name}\")"
   ]
  }
 ],
 "metadata": {
  "language_info": {
   "name": "python"
  }
 },
 "nbformat": 4,
 "nbformat_minor": 5
}
