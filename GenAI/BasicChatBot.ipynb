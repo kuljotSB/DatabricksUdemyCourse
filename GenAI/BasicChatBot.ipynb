{
 "cells": [
  {
   "cell_type": "markdown",
   "metadata": {},
   "source": [
    "# Building Basic ChatBot with Azure Databricks"
   ]
  },
  {
   "cell_type": "markdown",
   "metadata": {},
   "source": [
    "### Install the openai SDK"
   ]
  },
  {
   "cell_type": "markdown",
   "metadata": {},
   "source": [
    "%pip install databricks-vectorsearch"
   ]
  },
  {
   "cell_type": "markdown",
   "metadata": {},
   "source": [
    "### Restarting our Python Environment"
   ]
  },
  {
   "cell_type": "code",
   "execution_count": null,
   "metadata": {
    "vscode": {
     "languageId": "plaintext"
    }
   },
   "outputs": [],
   "source": [
    "dbutils.library.restartPython()"
   ]
  },
  {
   "cell_type": "markdown",
   "metadata": {},
   "source": [
    "### Creating an Azure OpenAI Client"
   ]
  },
  {
   "cell_type": "code",
   "execution_count": null,
   "metadata": {
    "vscode": {
     "languageId": "plaintext"
    }
   },
   "outputs": [],
   "source": [
    "from openai import AzureOpenAI\n",
    "\n",
    "openai_client = AzureOpenAI(\n",
    "    azure_endpoint = \"<YOUR-AZURE-OPENAI-ENDPOINT>\",\n",
    "    api_key = \"<YOUR-AZURE-OPENAI-API-KEY>\",\n",
    "    api_version=\"2024-02-15-preview\"\n",
    ")"
   ]
  },
  {
   "cell_type": "markdown",
   "metadata": {},
   "source": [
    "### Writing code for the Chat Completions API"
   ]
  },
  {
   "cell_type": "markdown",
   "metadata": {},
   "source": [
    "#### Defining the system prompt"
   ]
  },
  {
   "cell_type": "code",
   "execution_count": null,
   "metadata": {
    "vscode": {
     "languageId": "plaintext"
    }
   },
   "outputs": [],
   "source": [
    "system_prompt = f\"\"\" You are a helpful AI assistant meant to answer the user query \"\"\""
   ]
  },
  {
   "cell_type": "markdown",
   "metadata": {},
   "source": [
    "#### Defining the user prompt/ user query"
   ]
  },
  {
   "cell_type": "code",
   "execution_count": null,
   "metadata": {
    "vscode": {
     "languageId": "plaintext"
    }
   },
   "outputs": [],
   "source": [
    "user_prompt = f\"\"\" Hi how are you?\"\"\""
   ]
  },
  {
   "cell_type": "markdown",
   "metadata": {},
   "source": [
    "#### Making a call to the GPT engine"
   ]
  },
  {
   "cell_type": "code",
   "execution_count": null,
   "metadata": {
    "vscode": {
     "languageId": "plaintext"
    }
   },
   "outputs": [],
   "source": [
    "gpt_response = client.completions.create(\n",
    "    model = \"<YOUR-MODEL-NAME>\",\n",
    "    messages = [\n",
    "        {\n",
    "            \"role\":\"system\", \"content\": f\"{system_prompt}\"\n",
    "        },\n",
    "        {\n",
    "            \"role\":\"user\", \"content\": f\"{user_prompt}\"\n",
    "        }\n",
    "    ],\n",
    "    temperature = 0.7\n",
    ")\n",
    "\n",
    "print(gpt_response.choices[0].message.content)\n"
   ]
  },
  {
   "cell_type": "markdown",
   "metadata": {},
   "source": [
    "### Generating a custom Python function using Mlflow that can be served as a Mosaic AI endpoint"
   ]
  },
  {
   "cell_type": "code",
   "execution_count": null,
   "metadata": {
    "vscode": {
     "languageId": "plaintext"
    }
   },
   "outputs": [],
   "source": [
    "import mlflow\n",
    "from mlflow import pyfunc\n",
    "\n",
    "class BasicChatBot(pyfunc.PythonModel):\n",
    "      def __init__(self, AzureOpenAIClient, GPT_model):\n",
    "          self.AzureOpenAIClient = AzureOpenAIClient\n",
    "          self.GPT_model = GPT_model\n",
    "\n",
    "      def chatCompletionsAPI(self, user_query):\n",
    "          response = self.AzureOpenAIClient.completions.create(\n",
    "            model = self.GPT_model,\n",
    "            messages = [\n",
    "                {\n",
    "                    \"role\":\"system\",\n",
    "                    \"content\":\"You are a helpful AI assistant\"\n",
    "                },\n",
    "                {\n",
    "                    \"role\":\"user\",\n",
    "                    \"content\":f\"user_query\"\n",
    "                }\n",
    "            ],\n",
    "            temperature = 0.7\n",
    "          )\n",
    "      "
   ]
  }
 ],
 "metadata": {
  "language_info": {
   "name": "python"
  }
 },
 "nbformat": 4,
 "nbformat_minor": 2
}
