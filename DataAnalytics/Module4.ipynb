{
 "cells": [
  {
   "cell_type": "markdown",
   "metadata": {},
   "source": [
    "# Data Analytics Module 4 - Delta Live Tables (DLT)"
   ]
  },
  {
   "cell_type": "markdown",
   "metadata": {},
   "source": [
    "### Storing CSV file to DBFS (Databricks File System)"
   ]
  },
  {
   "cell_type": "code",
   "execution_count": null,
   "metadata": {
    "vscode": {
     "languageId": "plaintext"
    }
   },
   "outputs": [],
   "source": [
    "%sh\n",
    "rm -r /dbfs/delta_lab\n",
    "mkdir /dbfs/delta_lab\n",
    "wget -O /dbfs/delta_lab/products.csv https://raw.githubusercontent.com/kuljotSB/DatabricksUdemyCourse/refs/heads/main/DataAnalytics/products.csv"
   ]
  },
  {
   "cell_type": "markdown",
   "metadata": {},
   "source": [
    "### Creating Delta Live Tables using SQL"
   ]
  },
  {
   "cell_type": "markdown",
   "metadata": {},
   "source": [
    "#### Loading the raw dataset in the very first layer"
   ]
  },
  {
   "cell_type": "code",
   "execution_count": null,
   "metadata": {
    "vscode": {
     "languageId": "plaintext"
    }
   },
   "outputs": [],
   "source": [
    "CREATE OR REFRESH LIVE TABLE raw_products_data\n",
    "COMMENT \"Products sample dataset\"\n",
    "AS\n",
    "SELECT\n",
    " ProductID,\n",
    " ProductName,\n",
    " Category,\n",
    " ListPrice\n",
    "FROM read_files('dbfs:/delta_lab/products.csv', format => 'csv', header => true)"
   ]
  },
  {
   "cell_type": "markdown",
   "metadata": {},
   "source": [
    "#### Generating Business Aggregates from the raw layer dataset"
   ]
  },
  {
   "cell_type": "code",
   "execution_count": null,
   "metadata": {
    "vscode": {
     "languageId": "plaintext"
    }
   },
   "outputs": [],
   "source": [
    "CREATE OR REFRESH LIVE TABLE aggregated_products_data\n",
    "COMMENT \"Aggregated data\"\n",
    "AS\n",
    "SELECT\n",
    "   Category,\n",
    "   sum(ListPrice) as Total_Price\n",
    "FROM live.raw_products_data\n",
    "GROUP BY Category;"
   ]
  }
 ],
 "metadata": {
  "language_info": {
   "name": "python"
  }
 },
 "nbformat": 4,
 "nbformat_minor": 2
}
