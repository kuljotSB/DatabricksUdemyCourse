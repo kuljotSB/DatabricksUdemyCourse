{
 "cells": [
  {
   "cell_type": "code",
   "execution_count": null,
   "metadata": {},
   "outputs": [],
   "source": [
    "CREATE OR REPLACE FUNCTION default.lookup_electronics_item(\n",
    "  product_name STRING COMMENT 'Name of the product to look up. for instance if user query is \"how much does green webcam cost\", then product anem is \"webcam\" and not \"green webcam\"',\n",
    "  product_colour STRING COMMENT 'Colour of the product to look up.'\n",
    ")\n",
    "RETURNS STRING\n",
    "COMMENT 'Returns metadata about a specific product in the electronics_items dataset, including its ID, price, and description.'\n",
    "RETURN SELECT CONCAT(\n",
    "    'Product ID: ', productID, ', ',\n",
    "    'Product Name: ', productName, ', ',\n",
    "    'Product Colour: ', colour, ', ',\n",
    "    'Price: ', price, ', '\n",
    "  )\n",
    "  FROM default.electronics_products\n",
    "  WHERE LOWER(productName) = LOWER(product_name) \n",
    "    AND LOWER(colour) = LOWER(product_colour)\n",
    "  LIMIT 1;\n"
   ]
  }
 ],
 "metadata": {
  "language_info": {
   "name": "python"
  }
 },
 "nbformat": 4,
 "nbformat_minor": 2
}
